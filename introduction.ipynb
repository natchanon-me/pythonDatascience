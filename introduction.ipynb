{
  "nbformat": 4,
  "nbformat_minor": 0,
  "metadata": {
    "colab": {
      "name": "Untitled0.ipynb",
      "provenance": [],
      "collapsed_sections": [],
      "authorship_tag": "ABX9TyP4WCbTGGkh53LFpRpfpiv+",
      "include_colab_link": true
    },
    "kernelspec": {
      "name": "python3",
      "display_name": "Python 3"
    }
  },
  "cells": [
    {
      "cell_type": "markdown",
      "metadata": {
        "id": "view-in-github",
        "colab_type": "text"
      },
      "source": [
        "<a href=\"https://colab.research.google.com/github/natchanon-me/pythonDatascience/blob/master/introduction.ipynb\" target=\"_parent\"><img src=\"https://colab.research.google.com/assets/colab-badge.svg\" alt=\"Open In Colab\"/></a>"
      ]
    },
    {
      "cell_type": "markdown",
      "metadata": {
        "id": "O59El5v-s28-",
        "colab_type": "text"
      },
      "source": [
        "Python basic\n",
        "\n",
        "**test : \"Hello World\"**\n",
        "\n",
        "*Note : Short Key for run --> Ctrl + Enter*\n"
      ]
    },
    {
      "cell_type": "code",
      "metadata": {
        "id": "fTVNAbbks7Zk",
        "colab_type": "code",
        "colab": {
          "base_uri": "https://localhost:8080/",
          "height": 34
        },
        "outputId": "0e72040a-2bba-46bc-de8f-7b21250e8941"
      },
      "source": [
        "print(\"Hello World\")"
      ],
      "execution_count": 1,
      "outputs": [
        {
          "output_type": "stream",
          "text": [
            "Hello World\n"
          ],
          "name": "stdout"
        }
      ]
    },
    {
      "cell_type": "markdown",
      "metadata": {
        "id": "XGLb75vxwymv",
        "colab_type": "text"
      },
      "source": [
        "**Test : Input**"
      ]
    },
    {
      "cell_type": "code",
      "metadata": {
        "id": "qFLf1sFUw1Xp",
        "colab_type": "code",
        "colab": {
          "base_uri": "https://localhost:8080/",
          "height": 85
        },
        "outputId": "3cb94f6f-9e38-43f4-cf7c-dc6251eb8d8e"
      },
      "source": [
        "something = input(\"Please input your something : \")\n",
        "print(\"Your something is : \" + something)\n",
        "\n",
        "#Type casting\n",
        "print(int(something))\n",
        "\n",
        "something_int = int(something)\n",
        "print(something_int)"
      ],
      "execution_count": 8,
      "outputs": [
        {
          "output_type": "stream",
          "text": [
            "Please input your something : 10\n",
            "Your something is : 10\n",
            "10\n",
            "10\n"
          ],
          "name": "stdout"
        }
      ]
    },
    {
      "cell_type": "code",
      "metadata": {
        "id": "7pcxL2s5x2bS",
        "colab_type": "code",
        "colab": {
          "base_uri": "https://localhost:8080/",
          "height": 51
        },
        "outputId": "7f99d398-a4d5-43e4-baed-f0220d2e8f53"
      },
      "source": [
        "#Debug Part\n",
        "print(type(something))\n",
        "print(type(something_int))"
      ],
      "execution_count": 11,
      "outputs": [
        {
          "output_type": "stream",
          "text": [
            "<class 'str'>\n",
            "<class 'int'>\n"
          ],
          "name": "stdout"
        }
      ]
    },
    {
      "cell_type": "markdown",
      "metadata": {
        "id": "XM2uW9oK0KDf",
        "colab_type": "text"
      },
      "source": [
        "**Topic : Data Structures for python**."
      ]
    },
    {
      "cell_type": "markdown",
      "metadata": {
        "id": "Y7IZ-YhO6Lzr",
        "colab_type": "text"
      },
      "source": [
        "LIST"
      ]
    },
    {
      "cell_type": "code",
      "metadata": {
        "id": "LkUIbCZf0opK",
        "colab_type": "code",
        "colab": {}
      },
      "source": [
        "# List\n",
        "# List can operate basic operation (add, subtract, multiply, divide)\n",
        "students = [\"Few\", \"Fern\", \"Da\"] #This is List (I thought is call \"Array\" ? Hmm.. Maybe the same thing)\n",
        "ages = [25, 34, 54]"
      ],
      "execution_count": 0,
      "outputs": []
    },
    {
      "cell_type": "code",
      "metadata": {
        "id": "HE7jCUv60-yg",
        "colab_type": "code",
        "colab": {
          "base_uri": "https://localhost:8080/",
          "height": 34
        },
        "outputId": "211fd4c8-b177-4bbe-e0de-2aba17fdaba2"
      },
      "source": [
        "students[0] #This actually Array. Haha"
      ],
      "execution_count": 16,
      "outputs": [
        {
          "output_type": "execute_result",
          "data": {
            "text/plain": [
              "'Few'"
            ]
          },
          "metadata": {
            "tags": []
          },
          "execution_count": 16
        }
      ]
    },
    {
      "cell_type": "code",
      "metadata": {
        "id": "ej94lXl735Hb",
        "colab_type": "code",
        "colab": {
          "base_uri": "https://localhost:8080/",
          "height": 34
        },
        "outputId": "afa93fd4-9739-475f-e05f-c020d7cea616"
      },
      "source": [
        "len(students) #To find a size of array and other data structure"
      ],
      "execution_count": 17,
      "outputs": [
        {
          "output_type": "execute_result",
          "data": {
            "text/plain": [
              "3"
            ]
          },
          "metadata": {
            "tags": []
          },
          "execution_count": 17
        }
      ]
    },
    {
      "cell_type": "code",
      "metadata": {
        "id": "DYCLO84P5DF5",
        "colab_type": "code",
        "colab": {
          "base_uri": "https://localhost:8080/",
          "height": 34
        },
        "outputId": "fdf45607-95dc-472f-fc58-ab3849b4d5d8"
      },
      "source": [
        "students[0 : 3] #Syntax for extract specific data except the last element"
      ],
      "execution_count": 21,
      "outputs": [
        {
          "output_type": "execute_result",
          "data": {
            "text/plain": [
              "['Few', 'Fern', 'Da']"
            ]
          },
          "metadata": {
            "tags": []
          },
          "execution_count": 21
        }
      ]
    },
    {
      "cell_type": "code",
      "metadata": {
        "id": "KH1oPg_x614v",
        "colab_type": "code",
        "colab": {
          "base_uri": "https://localhost:8080/",
          "height": 85
        },
        "outputId": "2bb5fc4a-54d4-4f45-a404-a366a25b032e"
      },
      "source": [
        "ages.append(80);\n",
        "print(ages[len(ages)-1])\n",
        "ages.append(90);\n",
        "print(ages[len(ages)-1])\n",
        "ages.append(100);\n",
        "print(ages[len(ages)-1])\n",
        "ages\n",
        "\n"
      ],
      "execution_count": 34,
      "outputs": [
        {
          "output_type": "stream",
          "text": [
            "80\n",
            "90\n",
            "100\n"
          ],
          "name": "stdout"
        },
        {
          "output_type": "execute_result",
          "data": {
            "text/plain": [
              "[25, 34, 54, 80, 90, 100]"
            ]
          },
          "metadata": {
            "tags": []
          },
          "execution_count": 34
        }
      ]
    },
    {
      "cell_type": "markdown",
      "metadata": {
        "id": "vPd7y23S6NTe",
        "colab_type": "text"
      },
      "source": [
        "TUPLES"
      ]
    },
    {
      "cell_type": "code",
      "metadata": {
        "id": "YYZYfnBf6Pp8",
        "colab_type": "code",
        "colab": {
          "base_uri": "https://localhost:8080/",
          "height": 34
        },
        "outputId": "a4fde9f0-1f64-461e-bde8-f6e4d203b802"
      },
      "source": [
        "#Tuples # similar to list but it's constant size & cannot assign new item (cannot change existing item)\n",
        "#Use () instead []\n",
        "\n",
        "teachers = (\"Sommai\", \"Saimom\") \n",
        "teachers[0 : 2]\n",
        "\n",
        "# teachers[0] = \"New\"  #Tuple not support this activity\n",
        "\n",
        "test = (12, 'AC', 13,35) #tuple can hold various data types\n",
        "\n",
        "#tuple can operate basic operation (add, subtract, multiply, divide)"
      ],
      "execution_count": 35,
      "outputs": [
        {
          "output_type": "execute_result",
          "data": {
            "text/plain": [
              "('Sommai', 'Saimom')"
            ]
          },
          "metadata": {
            "tags": []
          },
          "execution_count": 35
        }
      ]
    },
    {
      "cell_type": "markdown",
      "metadata": {
        "id": "rlwhIpMPb-XN",
        "colab_type": "text"
      },
      "source": [
        "DICTIONARY (Dict)"
      ]
    },
    {
      "cell_type": "code",
      "metadata": {
        "id": "mDnS0AhzcGoR",
        "colab_type": "code",
        "colab": {
          "base_uri": "https://localhost:8080/",
          "height": 153
        },
        "outputId": "ed7de94e-19ec-4cc0-b571-34d326da8c4f"
      },
      "source": [
        "# Store data as a key value :::: (key:value)\n",
        "# use {} # Focus on *Key*\n",
        "# Cannot use index to accessing data\n",
        "\n",
        "few = {'name' : 'Natchanon', 'height' : 176, 'weight' : 62, 'age' : 23}\n",
        "print(few['name'])\n",
        "#Can assign new data or adding new information\n",
        "\n",
        "few['name'] = 'Sephiroth'\n",
        "print(few['name'])\n",
        "\n",
        "few['Surname'] = 'Aerith'\n",
        "print(few['Surname'])\n",
        "\n",
        "few"
      ],
      "execution_count": 39,
      "outputs": [
        {
          "output_type": "stream",
          "text": [
            "Natchanon\n",
            "Sephiroth\n",
            "Aerith\n"
          ],
          "name": "stdout"
        },
        {
          "output_type": "execute_result",
          "data": {
            "text/plain": [
              "{'Surname': 'Aerith',\n",
              " 'age': 23,\n",
              " 'height': 176,\n",
              " 'name': 'Sephiroth',\n",
              " 'weight': 62}"
            ]
          },
          "metadata": {
            "tags": []
          },
          "execution_count": 39
        }
      ]
    },
    {
      "cell_type": "code",
      "metadata": {
        "id": "4RZBXDyRd8Mv",
        "colab_type": "code",
        "colab": {
          "base_uri": "https://localhost:8080/",
          "height": 34
        },
        "outputId": "6b56407b-3501-463a-dbf4-de7197ac7812"
      },
      "source": [
        "del few['weight']\n",
        "few"
      ],
      "execution_count": 40,
      "outputs": [
        {
          "output_type": "execute_result",
          "data": {
            "text/plain": [
              "{'Surname': 'Aerith', 'age': 23, 'height': 176, 'name': 'Sephiroth'}"
            ]
          },
          "metadata": {
            "tags": []
          },
          "execution_count": 40
        }
      ]
    },
    {
      "cell_type": "markdown",
      "metadata": {
        "id": "D6HjV3sygYLH",
        "colab_type": "text"
      },
      "source": [
        "SET (Rarely use)"
      ]
    },
    {
      "cell_type": "code",
      "metadata": {
        "id": "ok1PdpBhgaMP",
        "colab_type": "code",
        "colab": {
          "base_uri": "https://localhost:8080/",
          "height": 34
        },
        "outputId": "3f6993e7-5604-4405-db9d-86f22027d07b"
      },
      "source": [
        "#use {}\n",
        "#no key value\n",
        "#List and tuple can casting to set by 'set(list)' **Duplicate data will be deleted\n",
        "\n",
        "height = [170, 181, 154, 158, 147, 170, 181, 158] #Here is list\n",
        "height_unique = set(height)\n",
        "height_unique"
      ],
      "execution_count": 41,
      "outputs": [
        {
          "output_type": "execute_result",
          "data": {
            "text/plain": [
              "{147, 154, 158, 170, 181}"
            ]
          },
          "metadata": {
            "tags": []
          },
          "execution_count": 41
        }
      ]
    },
    {
      "cell_type": "code",
      "metadata": {
        "id": "5fKS3-aBhPmV",
        "colab_type": "code",
        "colab": {}
      },
      "source": [
        "#Add new data :: set.add()\n",
        "#Remove existing data :: set.remove()\n",
        "#cannot assign new existing data\n",
        "#Cannot access data via index # using loop to accessing data\n",
        "\n",
        "#union use set1|set2\n",
        "#intersection use set1&set2"
      ],
      "execution_count": 0,
      "outputs": []
    },
    {
      "cell_type": "markdown",
      "metadata": {
        "id": "S-tX-Lw-ia1C",
        "colab_type": "text"
      },
      "source": [
        "**FUNCTION ; CLASS ; OBJECT**"
      ]
    },
    {
      "cell_type": "markdown",
      "metadata": {
        "id": "u5jKUD7Ui-SA",
        "colab_type": "text"
      },
      "source": [
        "Lambda Function"
      ]
    },
    {
      "cell_type": "code",
      "metadata": {
        "id": "6frAmpLCjCp5",
        "colab_type": "code",
        "colab": {
          "base_uri": "https://localhost:8080/",
          "height": 34
        },
        "outputId": "2d91bda2-32e1-4262-96e2-faddf8f2d901"
      },
      "source": [
        "#Shortcut to create function  #anonymous function\n",
        "#SYNTAX :: -------->  lambda argument(s): expression\n",
        "\n",
        "cube = lambda x: x*x*x\n",
        "print('{:.2f}'.format(cube(3)))"
      ],
      "execution_count": 48,
      "outputs": [
        {
          "output_type": "stream",
          "text": [
            "27.00\n"
          ],
          "name": "stdout"
        }
      ]
    },
    {
      "cell_type": "code",
      "metadata": {
        "id": "dfOE5hPrkzB9",
        "colab_type": "code",
        "colab": {
          "base_uri": "https://localhost:8080/",
          "height": 34
        },
        "outputId": "6dcd6042-d363-44af-86e7-ce560a714b7e"
      },
      "source": [
        "mean = lambda x1,x2,x3 : (x1 + x2 + x3)/3\n",
        "print(mean(2,3,4))"
      ],
      "execution_count": 49,
      "outputs": [
        {
          "output_type": "stream",
          "text": [
            "3.0\n"
          ],
          "name": "stdout"
        }
      ]
    },
    {
      "cell_type": "markdown",
      "metadata": {
        "id": "k4_zMNFXlDG8",
        "colab_type": "text"
      },
      "source": [
        "Basic Function"
      ]
    },
    {
      "cell_type": "code",
      "metadata": {
        "id": "mKtFyIHPlGdR",
        "colab_type": "code",
        "colab": {
          "base_uri": "https://localhost:8080/",
          "height": 34
        },
        "outputId": "fc7687cd-0d58-4d21-9082-673fc91b18f1"
      },
      "source": [
        "# using \" Def \" word to define function\n",
        "def mean_of_number(x1, x2, x3) :\n",
        "  sum = x1 + x2 + x3\n",
        "  return sum/3\n",
        "\n",
        "print(mean_of_number(5,6,7))"
      ],
      "execution_count": 52,
      "outputs": [
        {
          "output_type": "stream",
          "text": [
            "6.0\n"
          ],
          "name": "stdout"
        }
      ]
    },
    {
      "cell_type": "markdown",
      "metadata": {
        "id": "O7E4cp-rmnL9",
        "colab_type": "text"
      },
      "source": [
        "Print Variables :: ----> Format"
      ]
    },
    {
      "cell_type": "code",
      "metadata": {
        "id": "ET-Jivxqmr4G",
        "colab_type": "code",
        "colab": {
          "base_uri": "https://localhost:8080/",
          "height": 51
        },
        "outputId": "cdd39fc4-160c-462d-e0df-d021d9d168d5"
      },
      "source": [
        "# Using .format in print (This look like %d, %e in C language)\n",
        "\n",
        "My_Name = 'Natchanon'\n",
        "My_LastName = 'Suvi'\n",
        "print(\"My name is : \" + My_Name + \" \" + My_LastName)\n",
        "\n",
        "#.format\n",
        "\n",
        "print(\"My name is {} and my last name is {}\".format(My_Name, My_LastName))"
      ],
      "execution_count": 59,
      "outputs": [
        {
          "output_type": "stream",
          "text": [
            "My name is : Natchanon Suvi\n",
            "My name is Natchanon and my last name is Suvi\n"
          ],
          "name": "stdout"
        }
      ]
    },
    {
      "cell_type": "markdown",
      "metadata": {
        "id": "eN1KZxCGpOPY",
        "colab_type": "text"
      },
      "source": [
        "Membership operators"
      ]
    },
    {
      "cell_type": "code",
      "metadata": {
        "id": "Xzntnv1GpR12",
        "colab_type": "code",
        "colab": {
          "base_uri": "https://localhost:8080/",
          "height": 51
        },
        "outputId": "a4bc40ca-9802-45d6-f9a2-8c2dde75ada5"
      },
      "source": [
        "# in & not in\n",
        "list1 = [1, 2, 3, 4]\n",
        "a = 1\n",
        "b = 6\n",
        "\n",
        "print(a in list1)\n",
        "print(b in list1)"
      ],
      "execution_count": 60,
      "outputs": [
        {
          "output_type": "stream",
          "text": [
            "True\n",
            "False\n"
          ],
          "name": "stdout"
        }
      ]
    },
    {
      "cell_type": "code",
      "metadata": {
        "id": "b147uGkTpkss",
        "colab_type": "code",
        "colab": {
          "base_uri": "https://localhost:8080/",
          "height": 68
        },
        "outputId": "370cd6da-9237-47bb-84e6-c4b5b02342b6"
      },
      "source": [
        "#Identity operators -----> is & is not\n",
        "#The meaning of this operator is the same as == and !=\n",
        "x = 10\n",
        "y = 20\n",
        "z = 10\n",
        "print(x is y)\n",
        "print(type(x) is type(y))\n",
        "print(x is z)"
      ],
      "execution_count": 64,
      "outputs": [
        {
          "output_type": "stream",
          "text": [
            "False\n",
            "True\n",
            "True\n"
          ],
          "name": "stdout"
        }
      ]
    },
    {
      "cell_type": "markdown",
      "metadata": {
        "id": "rqc5Ir9PqXe9",
        "colab_type": "text"
      },
      "source": [
        "Nested List"
      ]
    },
    {
      "cell_type": "code",
      "metadata": {
        "id": "Vp9zMey3qZS9",
        "colab_type": "code",
        "colab": {
          "base_uri": "https://localhost:8080/",
          "height": 102
        },
        "outputId": "affd3812-b3d7-4b91-d2e0-ac4c57f2dbe7"
      },
      "source": [
        "#Nested Array\n",
        "\n",
        "data1 = ['weight1', 'weight2']\n",
        "data2 = ['weight3', 'weight4']\n",
        "data3 = ['weight5', 'weight6']\n",
        "\n",
        "data_all = [data1, data2, data3]\n",
        "print(len(data_all))\n",
        "\n",
        "print(data_all[0])\n",
        "print(data_all[0][0])\n",
        "\n",
        "print(data_all[0][1])\n",
        "print(data_all[1][1])\n"
      ],
      "execution_count": 69,
      "outputs": [
        {
          "output_type": "stream",
          "text": [
            "3\n",
            "['weight1', 'weight2']\n",
            "weight1\n",
            "weight2\n",
            "weight4\n"
          ],
          "name": "stdout"
        }
      ]
    },
    {
      "cell_type": "markdown",
      "metadata": {
        "id": "C_6Uqra9sJiU",
        "colab_type": "text"
      },
      "source": [
        "**IF STATEMENT**"
      ]
    },
    {
      "cell_type": "code",
      "metadata": {
        "id": "pUp17mF2sOPl",
        "colab_type": "code",
        "colab": {
          "base_uri": "https://localhost:8080/",
          "height": 51
        },
        "outputId": "f5b71a6b-1301-4541-a3f2-35fc9e7ad07b"
      },
      "source": [
        "# SYNTAX ---> if elif else\n",
        "\n",
        "money = int(input(\"Input your money range 0-5000 : \"))\n",
        "# money = int(money)\n",
        "if (money < 1000) :\n",
        "  print(\"Hmm. So poor\")\n",
        "elif (money >= 1000 and money < 2000) :\n",
        "  print(\"Hmm. Moderate\")    \n",
        "else :\n",
        "  print(\"Wow. So rich\")"
      ],
      "execution_count": 75,
      "outputs": [
        {
          "output_type": "stream",
          "text": [
            "Input your money range 0-5000 : 2500\n",
            "Wow. So rich\n"
          ],
          "name": "stdout"
        }
      ]
    },
    {
      "cell_type": "markdown",
      "metadata": {
        "id": "kMfuJpNCtnP7",
        "colab_type": "text"
      },
      "source": [
        "**Repetition Loop in python**"
      ]
    },
    {
      "cell_type": "markdown",
      "metadata": {
        "id": "Hno5tvnBtyYg",
        "colab_type": "text"
      },
      "source": [
        "While loop"
      ]
    },
    {
      "cell_type": "code",
      "metadata": {
        "id": "dPHTP07gt0Jl",
        "colab_type": "code",
        "colab": {
          "base_uri": "https://localhost:8080/",
          "height": 204
        },
        "outputId": "03dd76ca-505c-4002-9f59-f2bbd4a8c713"
      },
      "source": [
        "count = 0\n",
        "while (count < 10) :\n",
        "  print(count)\n",
        "  count += 1\n",
        "print(\"Finished\")"
      ],
      "execution_count": 78,
      "outputs": [
        {
          "output_type": "stream",
          "text": [
            "0\n",
            "1\n",
            "2\n",
            "3\n",
            "4\n",
            "5\n",
            "6\n",
            "7\n",
            "8\n",
            "9\n",
            "Finished\n"
          ],
          "name": "stdout"
        }
      ]
    },
    {
      "cell_type": "markdown",
      "metadata": {
        "id": "JdgGE0-pufvg",
        "colab_type": "text"
      },
      "source": [
        "For loop"
      ]
    },
    {
      "cell_type": "code",
      "metadata": {
        "id": "Cd-rDm0quhMn",
        "colab_type": "code",
        "colab": {
          "base_uri": "https://localhost:8080/",
          "height": 323
        },
        "outputId": "e72e9033-c5e1-4232-e1fe-43880a4bd8da"
      },
      "source": [
        "# Loop in defined list\n",
        "for i in [1,2,3]:\n",
        "  print(i)\n",
        "print(\"################\")\n",
        "# Print character in string\n",
        "for item in 'Test':\n",
        "  print(item)\n",
        "print(\"################\")\n",
        "# Loop for any range ------> range arguments : range(start, end, increment)\n",
        "for i in range(2):\n",
        "  print(i)\n",
        "print(\"################\")\n",
        "for i in range(1, 15, 3):\n",
        "  print(i)\n",
        "print(\"################\")\n"
      ],
      "execution_count": 84,
      "outputs": [
        {
          "output_type": "stream",
          "text": [
            "1\n",
            "2\n",
            "3\n",
            "################\n",
            "T\n",
            "e\n",
            "s\n",
            "t\n",
            "################\n",
            "0\n",
            "1\n",
            "################\n",
            "1\n",
            "4\n",
            "7\n",
            "10\n",
            "13\n",
            "################\n"
          ],
          "name": "stdout"
        }
      ]
    }
  ]
}